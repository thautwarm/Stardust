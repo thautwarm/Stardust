{
 "cells": [
  {
   "cell_type": "code",
   "execution_count": 1,
   "metadata": {},
   "outputs": [],
   "source": [
    "import functools\n",
    "from collections import namedtuple\n",
    "param_struct = namedtuple('param_struct', ['args', 'kwargs'])\n",
    "def tco(func):\n",
    "    def call(*args, **kwargs):\n",
    "        try:\n",
    "            old = func.__globals__[func.__name__] \n",
    "            func.__globals__[func.__name__] = lambda *args, **kwargs : param_struct(args, kwargs)\n",
    "            res = param_struct(args, kwargs)\n",
    "            while True:\n",
    "                res = func(*res.args, **res.kwargs)\n",
    "                if isinstance(res, param_struct):\n",
    "                    continue\n",
    "                break\n",
    "            func.__globals__[func.__name__] = old\n",
    "            return res\n",
    "        except Exception as e:\n",
    "            func.__globals__[func.__name__] = old\n",
    "            raise e\n",
    "    return call\n"
   ]
  },
  {
   "cell_type": "code",
   "execution_count": 2,
   "metadata": {},
   "outputs": [],
   "source": [
    "@tco\n",
    "def fact(n, out=0):\n",
    "    if n is 1:\n",
    "        return out\n",
    "    else:\n",
    "        return fact(n-1 , out = out*n)          \n",
    "def fact2(n):\n",
    "    return fact2(n-1)*n if n is not 1 else 1\n",
    "def fact3(n):\n",
    "    from functools import reduce\n",
    "    return reduce(lambda x,y: x*y, range(1, n+1))"
   ]
  },
  {
   "cell_type": "code",
   "execution_count": 3,
   "metadata": {},
   "outputs": [
    {
     "name": "stdout",
     "output_type": "stream",
     "text": [
      "call\n",
      "9.14 ms ± 302 µs per loop (mean ± std. dev. of 7 runs, 100 loops each)\n",
      "fact2\n",
      "20.9 ms ± 1.13 ms per loop (mean ± std. dev. of 7 runs, 10 loops each)\n",
      "fact3\n",
      "16 ms ± 464 µs per loop (mean ± std. dev. of 7 runs, 100 loops each)\n"
     ]
    }
   ],
   "source": [
    "\n",
    "import timeit\n",
    "import sys\n",
    "sys.setrecursionlimit(10500)\n",
    "for func in (fact, fact2, fact3):\n",
    "    print(func.__name__)\n",
    "    %timeit func(10000)"
   ]
  },
  {
   "cell_type": "code",
   "execution_count": null,
   "metadata": {
    "collapsed": true
   },
   "outputs": [],
   "source": []
  }
 ],
 "metadata": {
  "kernelspec": {
   "display_name": "Python 3",
   "language": "python",
   "name": "python3"
  },
  "language_info": {
   "codemirror_mode": {
    "name": "ipython",
    "version": 3
   },
   "file_extension": ".py",
   "mimetype": "text/x-python",
   "name": "python",
   "nbconvert_exporter": "python",
   "pygments_lexer": "ipython3",
   "version": "3.6.3"
  }
 },
 "nbformat": 4,
 "nbformat_minor": 2
}
